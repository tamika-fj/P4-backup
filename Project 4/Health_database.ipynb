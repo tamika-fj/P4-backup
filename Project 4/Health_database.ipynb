{
 "cells": [
  {
   "cell_type": "code",
   "execution_count": 38,
   "id": "6738ac13",
   "metadata": {},
   "outputs": [],
   "source": [
    "import sqlite3\n",
    "import csv\n",
    "import os\n",
    "import shutil"
   ]
  },
  {
   "cell_type": "code",
   "execution_count": 39,
   "id": "0b1717c1",
   "metadata": {},
   "outputs": [],
   "source": [
    "# Define the database file path (inside the \"Resources\" folder)\n",
    "db_path = os.path.join('Resources', 'health_info.db')"
   ]
  },
  {
   "cell_type": "code",
   "execution_count": 40,
   "id": "a353f283",
   "metadata": {},
   "outputs": [],
   "source": [
    "# Connect to the SQLite database (or create it if it doesn't exist)\n",
    "conn = sqlite3.connect(db_path)\n",
    "cursor = conn.cursor()"
   ]
  },
  {
   "cell_type": "code",
   "execution_count": 41,
   "id": "13569af3",
   "metadata": {},
   "outputs": [],
   "source": [
    "table_schemas = {\n",
    "    'DiabetesData':'''\n",
    "    CREATE TABLE IF NOT EXISTS diabetes_data_with_index (\n",
    "    id INTEGER PRIMARY KEY,\n",
    "    Glucose INTEGER,\n",
    "    BloodPressure INTEGER,\n",
    "    SkinThickness INTEGER,\n",
    "    Insulin INTEGER,\n",
    "    BMI FLOAT,\n",
    "    DiabetesPedigreeFunction FLOAT,\n",
    "    Age INTEGER,\n",
    "    Outcome INTEGER,\n",
    "    BloodPressureRange VARCHAR,\n",
    "    GlucoseRange VARCHAR,\n",
    "    BMIRange VARCHAR,\n",
    "    EncodedBP FLOAT,\n",
    "    EncodedGlucose FLOAT,\n",
    "    EncodedBMI FLOAT\n",
    "    )\n",
    "''', \n",
    "    'doctors_address_information': '''\n",
    "       CREATE TABLE IF NOT EXISTS doctor_address_data (\n",
    "        \"index\" INTEGER PRIMARY KEY,\n",
    "        postcode VARCHAR,\n",
    "        Name VARCHAR,\n",
    "        Address VARCHAR\n",
    "    )\n",
    "'''\n",
    "}\n",
    "for table_name, schema in table_schemas.items():\n",
    "    cursor.execute(schema)\n",
    "\n",
    "conn.commit()"
   ]
  },
  {
   "cell_type": "code",
   "execution_count": 42,
   "id": "9bd0f31d",
   "metadata": {},
   "outputs": [],
   "source": [
    "# Specify the folder where your CSV files are located\n",
    "csv_folder = 'Resources'"
   ]
  },
  {
   "cell_type": "code",
   "execution_count": 43,
   "id": "438eb1fc",
   "metadata": {},
   "outputs": [
    {
     "ename": "IntegrityError",
     "evalue": "UNIQUE constraint failed: diabetes_data_with_index.id",
     "output_type": "error",
     "traceback": [
      "\u001b[1;31m---------------------------------------------------------------------------\u001b[0m",
      "\u001b[1;31mIntegrityError\u001b[0m                            Traceback (most recent call last)",
      "Cell \u001b[1;32mIn[43], line 18\u001b[0m\n\u001b[0;32m     16\u001b[0m placeholders \u001b[38;5;241m=\u001b[39m \u001b[38;5;124m'\u001b[39m\u001b[38;5;124m, \u001b[39m\u001b[38;5;124m'\u001b[39m\u001b[38;5;241m.\u001b[39mjoin([\u001b[38;5;124m'\u001b[39m\u001b[38;5;124m?\u001b[39m\u001b[38;5;124m'\u001b[39m] \u001b[38;5;241m*\u001b[39m \u001b[38;5;28mlen\u001b[39m(row))\n\u001b[0;32m     17\u001b[0m insert_sql \u001b[38;5;241m=\u001b[39m \u001b[38;5;124mf\u001b[39m\u001b[38;5;124m'\u001b[39m\u001b[38;5;124mINSERT INTO \u001b[39m\u001b[38;5;124m\"\u001b[39m\u001b[38;5;132;01m{\u001b[39;00mtable_name\u001b[38;5;132;01m}\u001b[39;00m\u001b[38;5;124m\"\u001b[39m\u001b[38;5;124m VALUES (\u001b[39m\u001b[38;5;132;01m{\u001b[39;00mplaceholders\u001b[38;5;132;01m}\u001b[39;00m\u001b[38;5;124m)\u001b[39m\u001b[38;5;124m'\u001b[39m\n\u001b[1;32m---> 18\u001b[0m \u001b[43mcursor\u001b[49m\u001b[38;5;241;43m.\u001b[39;49m\u001b[43mexecute\u001b[49m\u001b[43m(\u001b[49m\u001b[43minsert_sql\u001b[49m\u001b[43m,\u001b[49m\u001b[43m \u001b[49m\u001b[43mrow\u001b[49m\u001b[43m)\u001b[49m\n",
      "\u001b[1;31mIntegrityError\u001b[0m: UNIQUE constraint failed: diabetes_data_with_index.id"
     ]
    }
   ],
   "source": [
    "# Read and insert data from CSV files (assuming all CSV files are in \"Resources\")\n",
    "csv_files = [\n",
    "    'diabetes_data_with_index.csv',\n",
    "    'doctor_address_data.csv'\n",
    "]\n",
    "\n",
    "for csv_file in csv_files:\n",
    "    table_name = os.path.splitext(csv_file)[0]  # Get table name from CSV file name\n",
    "    csv_path = os.path.join(csv_folder, csv_file)  # Create the full file path\n",
    "    with open(csv_path, 'r') as csv_file:\n",
    "        csv_reader = csv.reader(csv_file)\n",
    "        next(csv_reader)  # Skip the header row if it exists\n",
    "\n",
    "        for row in csv_reader:\n",
    "            # Construct the INSERT statement dynamically based on the table schema\n",
    "            placeholders = ', '.join(['?'] * len(row))\n",
    "            insert_sql = f'INSERT INTO \"{table_name}\" VALUES ({placeholders})'\n",
    "            cursor.execute(insert_sql, row)"
   ]
  },
  {
   "cell_type": "code",
   "execution_count": null,
   "id": "661419d8",
   "metadata": {},
   "outputs": [],
   "source": [
    "#CHECK NUMBER OF CSV FILE\n",
    "cursor.execute(\"SELECT name FROM sqlite_master WHERE type='table';\")\n",
    "\n",
    "tables = cursor.fetchall()\n",
    "for table in tables:\n",
    "    print(table[0])"
   ]
  },
  {
   "cell_type": "code",
   "execution_count": null,
   "id": "2418c4f7",
   "metadata": {},
   "outputs": [],
   "source": [
    "# Define the tables you want to delete\n",
    "tables_to_delete = ['DiabetesData', 'doctors_adress_information']\n",
    "\n",
    "# Delete the tables\n",
    "for table_name in tables_to_delete:\n",
    "    cursor.execute(f\"DROP TABLE IF EXISTS {table_name}\")"
   ]
  },
  {
   "cell_type": "code",
   "execution_count": null,
   "id": "745e8f1a",
   "metadata": {},
   "outputs": [],
   "source": [
    "#CHECK NUMBER OF CSV FILE\n",
    "cursor.execute(\"SELECT name FROM sqlite_master WHERE type='table';\")\n",
    "\n",
    "tables = cursor.fetchall()\n",
    "for table in tables:\n",
    "    print(table[0])"
   ]
  },
  {
   "cell_type": "code",
   "execution_count": null,
   "id": "158a1bbb",
   "metadata": {},
   "outputs": [],
   "source": [
    "# file paths\n",
    "db_file = 'Resources/health_info.db'        \n",
    "sqlite_file = 'Resources/health_info.sqlite' "
   ]
  },
  {
   "cell_type": "code",
   "execution_count": null,
   "id": "497b5f11",
   "metadata": {},
   "outputs": [],
   "source": [
    "if os.path.exists(db_file):\n",
    "    print(f\"The file '{db_file}' exists.\")\n",
    "else:\n",
    "    print(f\"The file '{db_file}' does not exist.\")"
   ]
  },
  {
   "cell_type": "code",
   "execution_count": null,
   "id": "495baba5",
   "metadata": {},
   "outputs": [],
   "source": [
    "# Read data from the .db file\n",
    "with open(db_file, 'rb') as db_file:\n",
    "    db_data = db_file.read()"
   ]
  },
  {
   "cell_type": "code",
   "execution_count": null,
   "id": "fc54a929",
   "metadata": {},
   "outputs": [],
   "source": [
    "with open(db_file, 'rb') as src_file:\n",
    "    with open(sqlite_file, 'wb') as dest_file:\n",
    "        dest_file.write(src_file.read())"
   ]
  },
  {
   "cell_type": "code",
   "execution_count": null,
   "id": "94ec8f9b",
   "metadata": {},
   "outputs": [],
   "source": [
    "# Commit changes and close the connection\n",
    "conn.commit()\n",
    "conn.close()\n",
    "\n",
    "#print(\"Database created and data inserted successfully.\")"
   ]
  },
  {
   "cell_type": "code",
   "execution_count": null,
   "id": "1f945439",
   "metadata": {},
   "outputs": [],
   "source": []
  }
 ],
 "metadata": {
  "kernelspec": {
   "display_name": "Python 3 (ipykernel)",
   "language": "python",
   "name": "python3"
  },
  "language_info": {
   "codemirror_mode": {
    "name": "ipython",
    "version": 3
   },
   "file_extension": ".py",
   "mimetype": "text/x-python",
   "name": "python",
   "nbconvert_exporter": "python",
   "pygments_lexer": "ipython3",
   "version": "3.10.11"
  }
 },
 "nbformat": 4,
 "nbformat_minor": 5
}
