{
 "cells": [
  {
   "cell_type": "code",
   "execution_count": 1,
   "id": "46e3ceec",
   "metadata": {},
   "outputs": [],
   "source": [
    "# Dependencies\n",
    "import requests\n",
    "import json\n",
    "from pprint import pprint\n",
    "import pandas as pd\n",
    "from pathlib import Path"
   ]
  },
  {
   "cell_type": "code",
   "execution_count": 2,
   "id": "4d5ad44a",
   "metadata": {},
   "outputs": [
    {
     "data": {
      "text/html": [
       "<div>\n",
       "<style scoped>\n",
       "    .dataframe tbody tr th:only-of-type {\n",
       "        vertical-align: middle;\n",
       "    }\n",
       "\n",
       "    .dataframe tbody tr th {\n",
       "        vertical-align: top;\n",
       "    }\n",
       "\n",
       "    .dataframe thead th {\n",
       "        text-align: right;\n",
       "    }\n",
       "</style>\n",
       "<table border=\"1\" class=\"dataframe\">\n",
       "  <thead>\n",
       "    <tr style=\"text-align: right;\">\n",
       "      <th></th>\n",
       "      <th>index</th>\n",
       "      <th>postcode</th>\n",
       "      <th>Name</th>\n",
       "      <th>Address</th>\n",
       "    </tr>\n",
       "  </thead>\n",
       "  <tbody>\n",
       "    <tr>\n",
       "      <th>0</th>\n",
       "      <td>0</td>\n",
       "      <td>3000-vic</td>\n",
       "      <td>Swanston Street Medical Centre</td>\n",
       "      <td>Swanston Street Medical Centre, 267 Bourke Str...</td>\n",
       "    </tr>\n",
       "    <tr>\n",
       "      <th>1</th>\n",
       "      <td>1</td>\n",
       "      <td>3000-vic</td>\n",
       "      <td>No 68 Medical Centre</td>\n",
       "      <td>No 68 Medical Centre, 68 Lonsdale Street, Melb...</td>\n",
       "    </tr>\n",
       "    <tr>\n",
       "      <th>2</th>\n",
       "      <td>2</td>\n",
       "      <td>3000-vic</td>\n",
       "      <td>Royal Park Medical</td>\n",
       "      <td>Royal Park Medical, Flemington Road, North Mel...</td>\n",
       "    </tr>\n",
       "    <tr>\n",
       "      <th>3</th>\n",
       "      <td>3</td>\n",
       "      <td>3001-vic</td>\n",
       "      <td>Swanston Street Medical Centre</td>\n",
       "      <td>Swanston Street Medical Centre, 267 Bourke Str...</td>\n",
       "    </tr>\n",
       "    <tr>\n",
       "      <th>4</th>\n",
       "      <td>4</td>\n",
       "      <td>3001-vic</td>\n",
       "      <td>No 68 Medical Centre</td>\n",
       "      <td>No 68 Medical Centre, 68 Lonsdale Street, Melb...</td>\n",
       "    </tr>\n",
       "  </tbody>\n",
       "</table>\n",
       "</div>"
      ],
      "text/plain": [
       "   index  postcode                            Name  \\\n",
       "0      0  3000-vic  Swanston Street Medical Centre   \n",
       "1      1  3000-vic            No 68 Medical Centre   \n",
       "2      2  3000-vic              Royal Park Medical   \n",
       "3      3  3001-vic  Swanston Street Medical Centre   \n",
       "4      4  3001-vic            No 68 Medical Centre   \n",
       "\n",
       "                                             Address  \n",
       "0  Swanston Street Medical Centre, 267 Bourke Str...  \n",
       "1  No 68 Medical Centre, 68 Lonsdale Street, Melb...  \n",
       "2  Royal Park Medical, Flemington Road, North Mel...  \n",
       "3  Swanston Street Medical Centre, 267 Bourke Str...  \n",
       "4  No 68 Medical Centre, 68 Lonsdale Street, Melb...  "
      ]
     },
     "execution_count": 2,
     "metadata": {},
     "output_type": "execute_result"
    }
   ],
   "source": [
    "doctors_data = pd.read_csv(\n",
    "    Path('Resources/doctor_address_data.csv')   \n",
    ")\n",
    "\n",
    "# Review the DataFrame\n",
    "doctors_data.head()"
   ]
  },
  {
   "cell_type": "code",
   "execution_count": 3,
   "id": "b05da876",
   "metadata": {},
   "outputs": [],
   "source": [
    "sample = doctors_data.head(10)"
   ]
  },
  {
   "cell_type": "code",
   "execution_count": 4,
   "id": "e95ad9bf",
   "metadata": {},
   "outputs": [],
   "source": [
    "sample.to_json('Resources/sample.json')"
   ]
  },
  {
   "cell_type": "code",
   "execution_count": null,
   "id": "6787d06d",
   "metadata": {},
   "outputs": [],
   "source": []
  }
 ],
 "metadata": {
  "kernelspec": {
   "display_name": "Python 3 (ipykernel)",
   "language": "python",
   "name": "python3"
  },
  "language_info": {
   "codemirror_mode": {
    "name": "ipython",
    "version": 3
   },
   "file_extension": ".py",
   "mimetype": "text/x-python",
   "name": "python",
   "nbconvert_exporter": "python",
   "pygments_lexer": "ipython3",
   "version": "3.10.11"
  }
 },
 "nbformat": 4,
 "nbformat_minor": 5
}
